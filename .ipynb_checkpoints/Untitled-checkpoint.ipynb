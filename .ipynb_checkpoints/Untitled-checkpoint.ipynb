{
 "cells": [
  {
   "cell_type": "code",
   "execution_count": 1,
   "metadata": {},
   "outputs": [],
   "source": [
    "import pandas as pd"
   ]
  },
  {
   "cell_type": "code",
   "execution_count": 4,
   "metadata": {},
   "outputs": [],
   "source": [
    "dry_q = pd.read_csv('https://daviddralle.github.io/teaching_data/dry_discharge.csv',\n",
    "                 index_col=0,parse_dates=True)\n",
    "\n",
    "elder_q = pd.read_csv('https://daviddralle.github.io/teaching_data/elder_discharge.csv',\n",
    "                 index_col=0,parse_dates=True)\n",
    "\n",
    "precip = pd.read_csv('https://daviddralle.github.io/teaching_data/angeloPrecip-Undercatch-and-Interception-Corrected-mm.csv',\n",
    "                     index_col=0,parse_dates=True)\n",
    "\n",
    "dry_pet = pd.read_csv('https://daviddralle.github.io/teaching_data/dry_pet.csv',\n",
    "                 index_col=0,parse_dates=True)\n",
    "\n",
    "elder_pet = pd.read_csv('https://daviddralle.github.io/teaching_data/elder_pet.csv',\n",
    "                 index_col=0,parse_dates=True)\n",
    "\n",
    "# units of the PET dataset are meters/day, so need to multiply by 1000 \n",
    "# since this represents a RATE of mm/day, we can just do a .mean() resampling\n",
    "dry_pet = 1000*dry_pet.resample('D').mean()\n",
    "elder_pet = 1000*elder_pet.resample('D').mean()\n",
    "\n",
    "# resampling a RATE => take a .mean()\n",
    "dry_q = dry_q.resample('D').mean()\n",
    "elder_q = elder_q.resample('D').mean()\n",
    "\n",
    "# units are mm in each timestep, a DEPTH, not a RATE,\n",
    "# so to get precip in units of mm/day\n",
    "# we need to take a .sum() of all the values in the day\n",
    "precip = precip.resample('D').sum()\n",
    "\n",
    "\n",
    "dry_pet.to_csv('./teaching_data/dry_pet_daily.csv')\n",
    "dry_q.to_csv('./teaching_data/dry_discharge_daily.csv')\n",
    "precip.to_csv('./teaching_data/angelo_precip_daily.csv')\n",
    "elder_pet.to_csv('./teaching_data/elder_pet_daily.csv')\n",
    "elder_q.to_csv('./teaching_data/elder_discharge_daily.csv')"
   ]
  },
  {
   "cell_type": "code",
   "execution_count": null,
   "metadata": {},
   "outputs": [],
   "source": []
  }
 ],
 "metadata": {
  "kernelspec": {
   "display_name": "Python 3",
   "language": "python",
   "name": "python3"
  },
  "language_info": {
   "codemirror_mode": {
    "name": "ipython",
    "version": 3
   },
   "file_extension": ".py",
   "mimetype": "text/x-python",
   "name": "python",
   "nbconvert_exporter": "python",
   "pygments_lexer": "ipython3",
   "version": "3.6.7"
  }
 },
 "nbformat": 4,
 "nbformat_minor": 4
}
